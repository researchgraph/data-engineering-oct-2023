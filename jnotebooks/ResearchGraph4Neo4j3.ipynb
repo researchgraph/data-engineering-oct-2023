{
 "cells": [
  {
   "cell_type": "markdown",
   "id": "16895a8c-c3a2-42bd-b14c-9c8b740278ba",
   "metadata": {},
   "source": [
    "# Research Graph - Papers Graph database example\n",
    "Load json data from files and populate in the Neo4j graph db using apoc procedure.\n",
    "\n",
    "Aland Astudillo - 2023-10-03"
   ]
  },
  {
   "cell_type": "code",
   "execution_count": 1,
   "id": "89c53981-131e-428e-9eaf-774bc868c470",
   "metadata": {},
   "outputs": [],
   "source": [
    "from neo4j import GraphDatabase\n",
    "\n",
    "driver = GraphDatabase.driver(uri=\"bolt://localhost:7687\", auth=(\"neo4j\", \"clavecita\"))"
   ]
  },
  {
   "cell_type": "code",
   "execution_count": 2,
   "id": "bdbd7d70-1d70-4a88-a8c4-aabc6ebf7595",
   "metadata": {},
   "outputs": [],
   "source": [
    "session = driver.session()"
   ]
  },
  {
   "cell_type": "code",
   "execution_count": 3,
   "id": "4b206a89-3224-4399-85c9-a557c9d088cf",
   "metadata": {},
   "outputs": [],
   "source": [
    "query_paper = \"\"\"\n",
    "CALL apoc.load.json(\"file:///paps/paper_3.json\")\n",
    "YIELD value\n",
    "WITH value\n",
    "MERGE (paper:PAPER {name: value.doi, code: value.id, doi: value.doi, url: value.url})\n",
    "RETURN paper\n",
    "\"\"\""
   ]
  },
  {
   "cell_type": "code",
   "execution_count": 4,
   "id": "fd59c2b5-dfd5-40a7-83af-b94782964ee4",
   "metadata": {},
   "outputs": [],
   "source": [
    "results = session.run(query_paper)"
   ]
  },
  {
   "cell_type": "code",
   "execution_count": 5,
   "id": "43149582-dba7-4657-b78a-87d7762057af",
   "metadata": {},
   "outputs": [
    {
     "data": {
      "text/plain": [
       "[{'paper': {'code': '10.1142/s0218213019400086',\n",
       "   'name': '10.1142/s0218213019400086',\n",
       "   'url': 'http://dx.doi.org/10.1142/s0218213019400086',\n",
       "   'doi': '10.1142/s0218213019400086'}}]"
      ]
     },
     "execution_count": 5,
     "metadata": {},
     "output_type": "execute_result"
    }
   ],
   "source": [
    "results.data()"
   ]
  },
  {
   "cell_type": "code",
   "execution_count": null,
   "id": "e902de69-79be-4456-bc09-02d14a5b5747",
   "metadata": {
    "scrolled": true
   },
   "outputs": [
    {
     "name": "stdout",
     "output_type": "stream",
     "text": [
      "Iteration 163159, File: CALL apoc.load.json(\"file:///paps/paper_163159.json\")\r"
     ]
    }
   ],
   "source": [
    "# testing iteration for queries\n",
    "niter = 501629 #2000\n",
    "\n",
    "for i in range(niter):\n",
    "    # add paper\n",
    "    query_p1 = 'CALL apoc.load.json(\"file:///paps/paper_{}.json\")'.format(i+1)\n",
    "    query_p2 = \"\"\"\n",
    "    YIELD value\n",
    "    WITH value\n",
    "    MERGE (paper:PAPER {name: value.doi, code: value.id, doi: value.doi, url: value.url})\n",
    "    RETURN paper\n",
    "    \"\"\"\n",
    "    query_paper = query_p1 + query_p2\n",
    "    results = session.run(query_paper)\n",
    "    #results.data()\n",
    "\n",
    "    #check if author is \"no\"\n",
    "    query_p1 = 'CALL apoc.load.json(\"file:///paps/paper_{}.json\")'.format(i+1)\n",
    "    query_p2 = \"\"\"\n",
    "    YIELD value\n",
    "    WITH value.author AS author\n",
    "    RETURN author\n",
    "    \"\"\"\n",
    "    query_paper = query_p1 + query_p2\n",
    "    results = session.run(query_paper)\n",
    "    data = results.data()\n",
    "    di = data[0]\n",
    "    if di['author']=='no':\n",
    "        continue\n",
    "    \n",
    "    # add organisations\n",
    "    query_p2 = \"\"\"\n",
    "    YIELD value\n",
    "    WITH value.author AS authors\n",
    "    UNWIND authors AS au\n",
    "    UNWIND au.affiliation as affiliation\n",
    "    MERGE (o:ORGANISATION {name: affiliation.name})\n",
    "    RETURN o\n",
    "    \"\"\"\n",
    "    query_organisation = query_p1 + query_p2\n",
    "    try:\n",
    "        results = session.run(query_organisation) # organisations without name are skiped (organisation.name =null)\n",
    "        pass\n",
    "    except:\n",
    "        # Continue to next iteration.\n",
    "        continue\n",
    "    \n",
    "    # add authors\n",
    "    query_p2 = \"\"\"\n",
    "    YIELD value\n",
    "    WITH value.author AS authors, value.id as code\n",
    "    UNWIND authors AS au\n",
    "    UNWIND au.affiliation as affiliation\n",
    "    MERGE (a:AUTHOR {name: COALESCE(au.given ,\"\") + ',' + COALESCE(au.family ,\"\")}) ON CREATE SET a.given = au.given, a.family = au.family, a.affiliation = affiliation.name           \n",
    "    MERGE (p:PAPER {name: code})\n",
    "    MERGE (o:ORGANISATION {name: affiliation.name})\n",
    "    MERGE (p)-[:WRITTEN_BY]->(a)\n",
    "    MERGE (a)-[:IS_PART_OF]->(o)\n",
    "    RETURN a, p, o\n",
    "    \"\"\"\n",
    "    query_authors = query_p1 + query_p2\n",
    "    \n",
    "    try:\n",
    "        results = session.run(query_authors) # authors when organisation without name are skiped (organisation.name =null)\n",
    "        pass\n",
    "    except:\n",
    "        # Continue to next iteration.\n",
    "        continue\n",
    "        \n",
    "    print('Iteration ' + str(i+1) + ', File: ' + query_p1, end='\\r')"
   ]
  }
 ],
 "metadata": {
  "kernelspec": {
   "display_name": "Python 3 (ipykernel)",
   "language": "python",
   "name": "python3"
  },
  "language_info": {
   "codemirror_mode": {
    "name": "ipython",
    "version": 3
   },
   "file_extension": ".py",
   "mimetype": "text/x-python",
   "name": "python",
   "nbconvert_exporter": "python",
   "pygments_lexer": "ipython3",
   "version": "3.11.4"
  }
 },
 "nbformat": 4,
 "nbformat_minor": 5
}
