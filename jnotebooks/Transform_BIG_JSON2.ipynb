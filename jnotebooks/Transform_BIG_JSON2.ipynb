{
 "cells": [
  {
   "cell_type": "markdown",
   "metadata": {},
   "source": [
    "# Transform BIG JSON\n",
    "Load a BIG JSON iteratively via ijson (lazy) and save a bunch of JSON files.\n",
    "\n",
    "Aland Astudillo 2023-10-05"
   ]
  },
  {
   "cell_type": "code",
   "execution_count": 21,
   "metadata": {},
   "outputs": [
    {
     "name": "stdout",
     "output_type": "stream",
     "text": [
      "converting file n 501629, to json \r"
     ]
    }
   ],
   "source": [
    "import ijson\n",
    "import json\n",
    "\n",
    "path_name = 'D:\\\\data_researchgraph\\\\json\\\\'\n",
    "file_name = 'artificial_intelligence.json'\n",
    "output_name = 'D:\\\\data_researchgraph\\\\json\\\\batchs\\\\'\n",
    "\n",
    "#user_to_repos = {}\n",
    "contador = 0\n",
    "contador2 = 0\n",
    "contador3 = 0\n",
    "limite = 100000\n",
    "uselimit = False\n",
    "sizechunk = 10000\n",
    "record_list = []\n",
    "ntotal = 501629\n",
    "\n",
    "with open(path_name+file_name, \"rb\") as f:\n",
    "    for record in ijson.items(f, \"item\"):\n",
    "        #print('converting file n ' + str(contador+1))\n",
    "        print('converting file n ' + str(contador+1) + ', to json ', end='\\r')\n",
    "\n",
    "        id = record[\"_id\"]\n",
    "        url = record[\"URL\"]\n",
    "        doi = record[\"DOI\"]\n",
    "\n",
    "        if 'title' in record:\n",
    "            title = record['title']\n",
    "        else:\n",
    "            title = 'no'\n",
    "\n",
    "        if 'type' in record:\n",
    "            type = record['type']\n",
    "        else:\n",
    "            type = 'no'\n",
    "\n",
    "        if 'container-title' in record:\n",
    "            containertitle = record['container-title']\n",
    "        else:\n",
    "            containertitle = 'no'\n",
    "\n",
    "        if 'group-title' in record:\n",
    "            grouptitle = record['group-title']\n",
    "        else:\n",
    "            grouptitle = 'no'\n",
    "        \n",
    "        if 'author' in record:\n",
    "            author = record[\"author\"]\n",
    "        else:\n",
    "            author = 'no'\n",
    "        \n",
    "        created = record['created']\n",
    "\n",
    "        #ref_count = record['reference-count'] #: 0,\n",
    "        #if ref_count>0:\n",
    "        #    ref = record[\"reference\"]\n",
    "        #else:\n",
    "        #    ref = 'no'\n",
    "\n",
    "        new_record = {'id': id, 'url': url, 'doi': doi, 'title': title, 'type': type, 'containertitle': containertitle, 'grouptitle': grouptitle, 'created': created, 'author': author} #, 'ref': ref}\n",
    "        record_list.append(new_record)\n",
    "\n",
    "        if contador2 == (sizechunk-1):\n",
    "            with open(output_name + 'batch_{}.json'.format(contador3+1), \"w\") as fp:\n",
    "                json.dump(record_list , fp, indent=4)\n",
    "            contador2 = 0\n",
    "            contador3 = contador3 + 1\n",
    "            record_list = []\n",
    "\n",
    "        if contador == (ntotal-1): #501629\n",
    "            with open(output_name + 'batch_{}.json'.format(contador3+1), \"w\") as fp:\n",
    "                json.dump(record_list , fp, indent=4)\n",
    "            contador2 = 0\n",
    "            contador3 = contador3 + 1\n",
    "            record_list = []\n",
    "\n",
    "        contador = contador + 1\n",
    "        contador2 = contador2 + 1\n",
    "        \n",
    "        if uselimit:\n",
    "            if contador==limite:\n",
    "                break\n",
    "\n"
   ]
  },
  {
   "cell_type": "code",
   "execution_count": 16,
   "metadata": {},
   "outputs": [
    {
     "data": {
      "text/plain": [
       "{'_id': '10.1142/s0218213000000288',\n",
       " 'URL': 'http://dx.doi.org/10.1142/s0218213000000288',\n",
       " 'resource': {'primary': {'URL': 'http://www.worldscinet.com/ijait/09/0904/S0218213000000288.html'}},\n",
       " 'member': '219',\n",
       " 'score': Decimal('0.0'),\n",
       " 'created': {'date-parts': [[2002, 7, 27]],\n",
       "  'date-time': '2002-07-27T07:04:45Z',\n",
       "  'timestamp': {'$numberLong': '1027753485000'}},\n",
       " 'ISSN': ['0218-2130'],\n",
       " 'container-title': ['International Journal on Artificial Intelligence Tools'],\n",
       " 'issued': {'date-parts': [[2000]]},\n",
       " 'issue': '4',\n",
       " 'prefix': '10.1142',\n",
       " 'reference-count': 0,\n",
       " 'indexed': {'date-parts': [[2022, 4, 1]],\n",
       "  'date-time': '2022-04-01T13:17:36Z',\n",
       "  'timestamp': {'$numberLong': '1648819056893'}},\n",
       " 'author': [{'given': 'THOMAS',\n",
       "   'family': 'WHALEN',\n",
       "   'sequence': 'first',\n",
       "   'affiliation': []}],\n",
       " 'DOI': '10.1142/s0218213000000288',\n",
       " 'is-referenced-by-count': 0,\n",
       " 'published': {'date-parts': [[2000]]},\n",
       " 'published-print': {'date-parts': [[2000]]},\n",
       " 'alternative-id': ['S0218213000000288'],\n",
       " 'subject': ['Artificial Intelligence', 'Artificial Intelligence'],\n",
       " 'content-domain': {'domain': [], 'crossmark-restriction': False},\n",
       " 'source': 'Crossref',\n",
       " 'type': 'journal-article',\n",
       " 'publisher': 'World Scientific Pub Co Pte Lt',\n",
       " 'journal-issue': {'issue': '4'},\n",
       " 'volume': '9',\n",
       " 'references-count': 0,\n",
       " 'issn-type': [{'value': '0218-2130', 'type': 'print'}],\n",
       " 'deposited': {'date-parts': [[2007, 2, 13]],\n",
       "  'date-time': '2007-02-13T15:56:13Z',\n",
       "  'timestamp': {'$numberLong': '1171382173000'}},\n",
       " 'page': '439',\n",
       " 'short-container-title': ['Int. J. Art. Intel. Tools'],\n",
       " 'import-source': 'crossref_all_json.tar.gz',\n",
       " 'last-updated': {'$date': '2023-05-06T20:17:31.085Z'}}"
      ]
     },
     "execution_count": 16,
     "metadata": {},
     "output_type": "execute_result"
    }
   ],
   "source": [
    "record"
   ]
  },
  {
   "cell_type": "code",
   "execution_count": 6,
   "metadata": {},
   "outputs": [
    {
     "data": {
      "text/plain": [
       "{'id': '10.1162/artl_e_00166',\n",
       " 'url': 'http://dx.doi.org/10.1162/artl_e_00166',\n",
       " 'doi': '10.1162/artl_e_00166',\n",
       " 'title': [\"Artificial Life Art, Creativity, and Techno-hybridization (editor's introduction)\"],\n",
       " 'type': 'journal-article',\n",
       " 'containertitle': ['Artificial Life'],\n",
       " 'created': {'date-parts': [[2015, 8, 17]],\n",
       "  'date-time': '2015-08-17T17:48:36Z',\n",
       "  'timestamp': {'$numberLong': '1439833716000'}},\n",
       " 'author': [{'given': 'Alan',\n",
       "   'family': 'Dorin',\n",
       "   'sequence': 'first',\n",
       "   'affiliation': [{'name': 'Monash University'}]}]}"
      ]
     },
     "execution_count": 6,
     "metadata": {},
     "output_type": "execute_result"
    }
   ],
   "source": [
    "new_record"
   ]
  },
  {
   "cell_type": "code",
   "execution_count": 7,
   "metadata": {},
   "outputs": [
    {
     "data": {
      "text/plain": [
       "[]"
      ]
     },
     "execution_count": 7,
     "metadata": {},
     "output_type": "execute_result"
    }
   ],
   "source": [
    "record_list"
   ]
  }
 ],
 "metadata": {
  "kernelspec": {
   "display_name": "Python 3 (ipykernel)",
   "language": "python",
   "name": "python3"
  },
  "language_info": {
   "codemirror_mode": {
    "name": "ipython",
    "version": 3
   },
   "file_extension": ".py",
   "mimetype": "text/x-python",
   "name": "python",
   "nbconvert_exporter": "python",
   "pygments_lexer": "ipython3",
   "version": "3.11.4"
  }
 },
 "nbformat": 4,
 "nbformat_minor": 4
}
