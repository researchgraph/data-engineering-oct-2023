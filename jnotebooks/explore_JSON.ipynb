{
 "cells": [
  {
   "attachments": {},
   "cell_type": "markdown",
   "metadata": {},
   "source": [
    "# Get Articles, Authors and organisations from the JSON file\n",
    "Load the big JSON file in a lazy way\n",
    "iterate through the records\n",
    "restructure each record and get key values\n",
    "\n",
    "Aland Astudillo - 2023-10-04"
   ]
  },
  {
   "cell_type": "code",
   "execution_count": 14,
   "metadata": {},
   "outputs": [
    {
     "name": "stdout",
     "output_type": "stream",
     "text": [
      "Iteration 501629, File: 10.12681/eadd/40861 .52263 .242270 t27-3589-11   3 energy-transition rgy-transition es-uniquely-and-functionally-connected-to-the-initiation-and-progression-of-diseases \r"
     ]
    }
   ],
   "source": [
    "import ijson\n",
    "import json\n",
    "import numpy as np\n",
    "\n",
    "path_name = 'C:\\\\zAland\\\\researchgraph_challenge\\\\'\n",
    "file_name = 'artificial_intelligence.json'\n",
    "\n",
    "contador = 0\n",
    "limite = 10\n",
    "uselimite = False # >>>>>>>>>>>>>>>>>>>>>>>>>>>>>>>>>>>>>v CHANGE THIS LINE TO LIMIT THE ITERATIONS THROUGH ELEMENTS\n",
    "\n",
    "authorList = []\n",
    "organisationList = []\n",
    "authorOrganisationList = []\n",
    "paperList = []\n",
    "\n",
    "with open(path_name + file_name, \"rb\") as f:\n",
    "    for record in ijson.items(f, \"item\"):\n",
    "        id = record[\"_id\"]\n",
    "        paperList.append(id)\n",
    "        \n",
    "        url = record[\"URL\"]\n",
    "        doi = record[\"DOI\"]\n",
    "\n",
    "        #print('loading record n ' + str(contador+1)) \n",
    "        print('Iteration ' + str(contador+1) + ', File: ' + id + ' ', end='\\r')\n",
    "        \n",
    "        if 'author' in record:\n",
    "            author = record[\"author\"]\n",
    "            ifAuthor = True\n",
    "        else:\n",
    "            author = 'no'\n",
    "            ifAuthor = False\n",
    "        \n",
    "        ref_count = record['reference-count'] #: 0,\n",
    "        if ref_count>0:\n",
    "            ref = record[\"reference\"]\n",
    "        else:\n",
    "            ref = 'no'\n",
    "\n",
    "        new_record = {'id': id, 'url': url, 'author': author, 'doi': doi} #, 'ref': ref}\n",
    "        \n",
    "        nAuthors = len(author)\n",
    "        if ifAuthor:\n",
    "            affiliationList = []\n",
    "            for i in range(nAuthors):\n",
    "                authorItem = author[i]\n",
    "                if 'given' in authorItem:\n",
    "                    authorName = authorItem['given']\n",
    "                else:\n",
    "                    continue\n",
    "\n",
    "                \n",
    "                authorLastName = authorItem['family']\n",
    "\n",
    "                if 'affiliation' in authorItem:\n",
    "                    affiliation = authorItem['affiliation']\n",
    "                    if len(affiliation)>0:\n",
    "                        affiliationItem = affiliation[0]\n",
    "                        ifAffiliation = True\n",
    "                        \n",
    "                        if 'name' in affiliationItem:\n",
    "                            affiliationName = affiliationItem['name']\n",
    "                            ifAffiliationName = True\n",
    "                        else:\n",
    "                            affiliationName = 'no'\n",
    "                            ifAffiliationName = False\n",
    "                    else:\n",
    "                        affiliationName = 'no'\n",
    "                        ifAffiliationName = False\n",
    "                else:\n",
    "                    affiliationName = 'no'\n",
    "                    ifAffiliation = False\n",
    "\n",
    "                \n",
    "                authorCompleteName = authorName + ' ' + authorLastName\n",
    "                authorList.append(authorCompleteName)\n",
    "                \n",
    "                affiliationList.append(affiliationName)\n",
    "                item = [authorCompleteName, affiliationName]\n",
    "                authorOrganisationList.append(item)\n",
    "\n",
    "            \n",
    "            affiliationArray = np.array(affiliationList)\n",
    "            affiliationArrayUnique = np.unique(affiliationArray)\n",
    "            affiliationList = affiliationArrayUnique.tolist()\n",
    "            \n",
    "            organisationList = organisationList + affiliationList\n",
    "            \n",
    "\n",
    "        contador = contador + 1\n",
    "        \n",
    "        if uselimite:\n",
    "            if contador==limite:\n",
    "                break\n",
    "\n",
    "        \n",
    "# last element\n",
    "# Iteration 501629, File: 10.12681/eadd/408611.522631.242270ht27-3589-116253/energy-transitionergy-transitionres-uniquely-and-functionally-connected-to-the-initiation-and-progression-of-diseases"
   ]
  },
  {
   "cell_type": "code",
   "execution_count": 15,
   "metadata": {},
   "outputs": [
    {
     "data": {
      "text/plain": [
       "[['MUHAMMAD ROZI MALIM',\n",
       "  'Faculty of Computer and Mathematical Sciences, MARA University of Technology, Shah Alam, 40450 Selangor, Malaysia'],\n",
       " ['FARIDAH ABDUL HALIM',\n",
       "  'Faculty of Computer and Mathematical Sciences, MARA University of Technology, Shah Alam, 40450 Selangor, Malaysia'],\n",
       " ['JUAN PERALTA DONATE',\n",
       "  'Computer Science Department, Carlos III University, Av Universidad 30, Leganes, Madrid 28911, Spain'],\n",
       " ['GERMAN GUTIERREZ SANCHEZ',\n",
       "  'Computer Science Department, Carlos III University, Av Universidad 30, Leganes, Madrid 28911, Spain'],\n",
       " ['ARACELI SANCHIS DE MIGUEL',\n",
       "  'Computer Science Department, Carlos III University, Av Universidad 30, Leganes, Madrid 28911, Spain'],\n",
       " ['Dionisios N. Sotiropoulos',\n",
       "  'Department of Computer Science, University of Piraeus, 80, M. Karaoli &amp; A. Dimitriou St., 18534 Piraeus, Greece'],\n",
       " ['Efthimios Alepis',\n",
       "  'Department of Computer Science, University of Piraeus, 80, M. Karaoli &amp; A. Dimitriou St., 18534 Piraeus, Greece'],\n",
       " ['Katerina Kabassi',\n",
       "  'Department of Environment, Ionian University, Technological Educational Institute of Ionian, Islands Panagoula, 29100 Zakynthos, Greece'],\n",
       " ['Maria K. Virvou',\n",
       "  'Department of Computer Science, University of Piraeus, 80, M. Karaoli &amp; A. Dimitriou St., 18534 Piraeus, Greece'],\n",
       " ['George A. Tsihrintzis',\n",
       "  'Department of Computer Science, University of Piraeus, 80, M. Karaoli &amp; A. Dimitriou St., 18534 Piraeus, Greece']]"
      ]
     },
     "execution_count": 15,
     "metadata": {},
     "output_type": "execute_result"
    }
   ],
   "source": [
    "authorOrganisationList[0:10]"
   ]
  },
  {
   "cell_type": "code",
   "execution_count": 16,
   "metadata": {},
   "outputs": [
    {
     "data": {
      "text/plain": [
       "['Faculty of Computer and Mathematical Sciences, MARA University of Technology, Shah Alam, 40450 Selangor, Malaysia',\n",
       " 'Computer Science Department, Carlos III University, Av Universidad 30, Leganes, Madrid 28911, Spain',\n",
       " 'Department of Computer Science, University of Piraeus, 80, M. Karaoli &amp; A. Dimitriou St., 18534 Piraeus, Greece',\n",
       " 'Department of Environment, Ionian University, Technological Educational Institute of Ionian, Islands Panagoula, 29100 Zakynthos, Greece',\n",
       " 'aDeNu Research Group, Artificial Intelligence Department, Computer Science School, UNED, Calle Juan del Rosal, 16 Madrid 28040, Spain',\n",
       " 'Department of Computer Engineering, Islamic Azad University, Najafabad Branch, Isfahan, Iran',\n",
       " 'Department of Industrial Engineering, Yazd University, Saffayieh, Yazd, Iran',\n",
       " 'Department of Management, Islamic Azad University, Central Tehran Branch, Tehran, Iran',\n",
       " 'Department of Technology Management, Iran University of Science and Technology, Tehran, Iran',\n",
       " 'Faculty of Industrial Engineering, Islamic Azad University, Firoozkooh Branch, Tehran, Iran']"
      ]
     },
     "execution_count": 16,
     "metadata": {},
     "output_type": "execute_result"
    }
   ],
   "source": [
    "organisationList[0:10]"
   ]
  },
  {
   "cell_type": "code",
   "execution_count": 17,
   "metadata": {},
   "outputs": [
    {
     "data": {
      "text/plain": [
       "['MUHAMMAD ROZI MALIM',\n",
       " 'FARIDAH ABDUL HALIM',\n",
       " 'JUAN PERALTA DONATE',\n",
       " 'GERMAN GUTIERREZ SANCHEZ',\n",
       " 'ARACELI SANCHIS DE MIGUEL',\n",
       " 'Dionisios N. Sotiropoulos',\n",
       " 'Efthimios Alepis',\n",
       " 'Katerina Kabassi',\n",
       " 'Maria K. Virvou',\n",
       " 'George A. Tsihrintzis']"
      ]
     },
     "execution_count": 17,
     "metadata": {},
     "output_type": "execute_result"
    }
   ],
   "source": [
    "authorList[0:10]"
   ]
  },
  {
   "cell_type": "code",
   "execution_count": 18,
   "metadata": {},
   "outputs": [],
   "source": [
    "authorArray = np.array(authorList)\n",
    "authorArrayUnique = np.unique(authorArray)"
   ]
  },
  {
   "cell_type": "code",
   "execution_count": 19,
   "metadata": {},
   "outputs": [
    {
     "data": {
      "text/plain": [
       "(1517750,)"
      ]
     },
     "execution_count": 19,
     "metadata": {},
     "output_type": "execute_result"
    }
   ],
   "source": [
    "authorArray.shape # (1517750,)"
   ]
  },
  {
   "cell_type": "code",
   "execution_count": 20,
   "metadata": {},
   "outputs": [
    {
     "data": {
      "text/plain": [
       "(736857,)"
      ]
     },
     "execution_count": 20,
     "metadata": {},
     "output_type": "execute_result"
    }
   ],
   "source": [
    "authorArrayUnique.shape # (736857,)"
   ]
  },
  {
   "cell_type": "code",
   "execution_count": 21,
   "metadata": {},
   "outputs": [],
   "source": [
    "organisationArray = np.array(organisationList)\n",
    "organisationArrayUnique = np.unique(organisationArray)"
   ]
  },
  {
   "cell_type": "code",
   "execution_count": 24,
   "metadata": {},
   "outputs": [
    {
     "data": {
      "text/plain": [
       "(556799,)"
      ]
     },
     "execution_count": 24,
     "metadata": {},
     "output_type": "execute_result"
    }
   ],
   "source": [
    "organisationArray.shape # (556799,)"
   ]
  },
  {
   "cell_type": "code",
   "execution_count": 25,
   "metadata": {},
   "outputs": [
    {
     "data": {
      "text/plain": [
       "(150375,)"
      ]
     },
     "execution_count": 25,
     "metadata": {},
     "output_type": "execute_result"
    }
   ],
   "source": [
    "organisationArrayUnique.shape #(150375,)"
   ]
  },
  {
   "cell_type": "code",
   "execution_count": 26,
   "metadata": {},
   "outputs": [],
   "source": [
    "# papers paperList\n",
    "paperArray = np.array(paperList)\n",
    "paperArrayUnique = np.unique(paperArray)"
   ]
  },
  {
   "cell_type": "code",
   "execution_count": 27,
   "metadata": {},
   "outputs": [
    {
     "data": {
      "text/plain": [
       "(501629,)"
      ]
     },
     "execution_count": 27,
     "metadata": {},
     "output_type": "execute_result"
    }
   ],
   "source": [
    "paperArray.shape"
   ]
  },
  {
   "cell_type": "code",
   "execution_count": 28,
   "metadata": {},
   "outputs": [
    {
     "data": {
      "text/plain": [
       "(501629,)"
      ]
     },
     "execution_count": 28,
     "metadata": {},
     "output_type": "execute_result"
    }
   ],
   "source": [
    "paperArrayUnique.shape"
   ]
  }
 ],
 "metadata": {
  "kernelspec": {
   "display_name": "Python 3 (ipykernel)",
   "language": "python",
   "name": "python3"
  },
  "language_info": {
   "codemirror_mode": {
    "name": "ipython",
    "version": 3
   },
   "file_extension": ".py",
   "mimetype": "text/x-python",
   "name": "python",
   "nbconvert_exporter": "python",
   "pygments_lexer": "ipython3",
   "version": "3.11.4"
  }
 },
 "nbformat": 4,
 "nbformat_minor": 4
}
